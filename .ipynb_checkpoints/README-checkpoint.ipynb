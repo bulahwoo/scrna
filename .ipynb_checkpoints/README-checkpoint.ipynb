{
 "cells": [
  {
   "cell_type": "code",
   "execution_count": null,
   "id": "a1cc33a5-3365-4d69-b681-5ed41952a2bf",
   "metadata": {},
   "outputs": [],
   "source": [
    "# scRNA-seq analysis\n",
    "## with Drop-seq core computational protocol\n",
    "### _B. mori_ testes\n",
    "[bm07s1](https://nbviewer.org/github/bulahwoo/scrna/blob/main/data/dropseq/bm07s1_dropseq.html)  \n",
    "[bm11s2](https://nbviewer.org/github/bulahwoo/scrna/blob/main/data/dropseq/bm11s2_dropseq.html)  \n",
    "[bm12s3](https://nbviewer.org/github/bulahwoo/scrna/blob/main/data/dropseq/bm12s3_dropseq.html)  \n",
    "  \n",
    "### _P. californicus_ testes\n",
    "[pc63s4](https://nbviewer.org/github/bulahwoo/scrna/blob/main/data/dropseq/pc63s4_dropseq.html)  \n",
    "[pc85s5](https://nbviewer.org/github/bulahwoo/scrna/blob/main/data/dropseq/pc85s5_dropseq.html)  "
   ]
  }
 ],
 "metadata": {
  "kernelspec": {
   "display_name": "Python 3 (ipykernel)",
   "language": "python",
   "name": "python3"
  },
  "language_info": {
   "codemirror_mode": {
    "name": "ipython",
    "version": 3
   },
   "file_extension": ".py",
   "mimetype": "text/x-python",
   "name": "python",
   "nbconvert_exporter": "python",
   "pygments_lexer": "ipython3",
   "version": "3.11.12"
  }
 },
 "nbformat": 4,
 "nbformat_minor": 5
}
