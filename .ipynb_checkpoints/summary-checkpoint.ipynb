{
 "cells": [
  {
   "cell_type": "markdown",
   "id": "9047d116-393e-4085-82f7-a6d130f2348f",
   "metadata": {},
   "source": [
    "# scRNA-seq analysis\n",
    "## with Drop-seq core computational protocol"
   ]
  },
  {
   "cell_type": "markdown",
   "id": "3c5b56d0-4f2b-4628-8b9d-c82fbfd3cd80",
   "metadata": {},
   "source": [
    "## Overview of filtering results\n",
    "The table below summarizes, for each sample, the total detected cells and genes, along with the mean and median UMI and gene counts per cell.  \n",
    "For more information on the filtering criteria for each sample, please refer to the individual sample reports below."
   ]
  },
  {
   "cell_type": "code",
   "execution_count": 1,
   "id": "374000c5-97dc-4527-a07d-3baa43e3a4c1",
   "metadata": {
    "execution": {
     "iopub.execute_input": "2025-05-20T15:16:07.007142Z",
     "iopub.status.busy": "2025-05-20T15:16:07.006953Z",
     "iopub.status.idle": "2025-05-20T15:16:07.142784Z",
     "shell.execute_reply": "2025-05-20T15:16:07.142524Z"
    }
   },
   "outputs": [
    {
     "data": {
      "text/html": [
       "<div>\n",
       "<style scoped>\n",
       "    .dataframe tbody tr th:only-of-type {\n",
       "        vertical-align: middle;\n",
       "    }\n",
       "\n",
       "    .dataframe tbody tr th {\n",
       "        vertical-align: top;\n",
       "    }\n",
       "\n",
       "    .dataframe thead th {\n",
       "        text-align: right;\n",
       "    }\n",
       "</style>\n",
       "<table border=\"1\" class=\"dataframe\">\n",
       "  <thead>\n",
       "    <tr style=\"text-align: right;\">\n",
       "      <th></th>\n",
       "      <th>NumGenes</th>\n",
       "      <th>NumCells</th>\n",
       "      <th>Mean_nCount_RNA</th>\n",
       "      <th>Median_nCount_RNA</th>\n",
       "      <th>Mean_nFeature_RNA</th>\n",
       "      <th>Median_nFeature_RNA</th>\n",
       "    </tr>\n",
       "  </thead>\n",
       "  <tbody>\n",
       "    <tr>\n",
       "      <th>bm07s1</th>\n",
       "      <td>13230</td>\n",
       "      <td>33994</td>\n",
       "      <td>817.440695</td>\n",
       "      <td>652.0</td>\n",
       "      <td>515.126199</td>\n",
       "      <td>444.5</td>\n",
       "    </tr>\n",
       "    <tr>\n",
       "      <th>bm11s2</th>\n",
       "      <td>13178</td>\n",
       "      <td>27232</td>\n",
       "      <td>1070.369822</td>\n",
       "      <td>841.0</td>\n",
       "      <td>593.815768</td>\n",
       "      <td>509.0</td>\n",
       "    </tr>\n",
       "    <tr>\n",
       "      <th>bm12s3</th>\n",
       "      <td>13107</td>\n",
       "      <td>43620</td>\n",
       "      <td>725.034480</td>\n",
       "      <td>567.0</td>\n",
       "      <td>449.768890</td>\n",
       "      <td>382.0</td>\n",
       "    </tr>\n",
       "    <tr>\n",
       "      <th>pc63s4</th>\n",
       "      <td>4679</td>\n",
       "      <td>57</td>\n",
       "      <td>3439.578947</td>\n",
       "      <td>2928.0</td>\n",
       "      <td>1390.649123</td>\n",
       "      <td>1278.0</td>\n",
       "    </tr>\n",
       "    <tr>\n",
       "      <th>pc85s5</th>\n",
       "      <td>8385</td>\n",
       "      <td>1342</td>\n",
       "      <td>1676.837556</td>\n",
       "      <td>945.5</td>\n",
       "      <td>797.325633</td>\n",
       "      <td>592.0</td>\n",
       "    </tr>\n",
       "  </tbody>\n",
       "</table>\n",
       "</div>"
      ],
      "text/plain": [
       "        NumGenes  NumCells  Mean_nCount_RNA  Median_nCount_RNA  \\\n",
       "bm07s1     13230     33994       817.440695              652.0   \n",
       "bm11s2     13178     27232      1070.369822              841.0   \n",
       "bm12s3     13107     43620       725.034480              567.0   \n",
       "pc63s4      4679        57      3439.578947             2928.0   \n",
       "pc85s5      8385      1342      1676.837556              945.5   \n",
       "\n",
       "        Mean_nFeature_RNA  Median_nFeature_RNA  \n",
       "bm07s1         515.126199                444.5  \n",
       "bm11s2         593.815768                509.0  \n",
       "bm12s3         449.768890                382.0  \n",
       "pc63s4        1390.649123               1278.0  \n",
       "pc85s5         797.325633                592.0  "
      ]
     },
     "execution_count": 1,
     "metadata": {},
     "output_type": "execute_result"
    }
   ],
   "source": [
    "import pandas as pd\n",
    "\n",
    "# List of file paths\n",
    "file_paths = [\n",
    "    \"./data/dropseq/files/bm07s1_summary_stat.tsv\", \n",
    "    \"./data/dropseq/files/bm11s2_summary_stat.tsv\", \n",
    "    \"./data/dropseq/files/bm12s3_summary_stat.tsv\", \n",
    "    \"./data/dropseq/files/pc63s4_summary_stat.tsv\", \n",
    "    \"./data/dropseq/files/pc85s5_summary_stat.tsv\"\n",
    "]\n",
    "\n",
    "# Initialize an empty list to store the last rows\n",
    "last_rows = []\n",
    "\n",
    "# Loop through each file and extract the last row\n",
    "for file in file_paths:\n",
    "    # Read the TSV file\n",
    "    df = pd.read_csv(file, sep=\"\\t\", header=0)\n",
    "    \n",
    "    # Extract the last row\n",
    "    last_row = df.tail(1)\n",
    "    \n",
    "    # Append the last row to the list\n",
    "    last_rows.append(last_row)\n",
    "\n",
    "# Combine all last rows into a single DataFrame\n",
    "combined_df = pd.concat(last_rows, axis=0)\n",
    "\n",
    "# Reset the index to be sample1, sample2, ..., sample5\n",
    "combined_df.index = [\"bm07s1\", \"bm11s2\", \"bm12s3\", \"pc63s4\", \"pc85s5\"]\n",
    "\n",
    "# Display the combined DataFrame\n",
    "combined_df"
   ]
  },
  {
   "cell_type": "markdown",
   "id": "39f5d4cb-64d2-42b8-ae7c-06e6aa00249c",
   "metadata": {},
   "source": [
    "## Individual sample reports\n",
    "### _B. mori_ testes\n",
    "[bm07s1](https://nbviewer.org/github/bulahwoo/scrna/blob/1c13ba680c7ebf9dfdbd29dc70c1d9572be6be7e/data/dropseq/bm07s1_dropseq.html)  \n",
    "[bm11s2](https://nbviewer.org/github/bulahwoo/scrna/blob/1c13ba680c7ebf9dfdbd29dc70c1d9572be6be7e/data/dropseq/bm11s2_dropseq.html)  \n",
    "[bm12s3](https://nbviewer.org/github/bulahwoo/scrna/blob/1c13ba680c7ebf9dfdbd29dc70c1d9572be6be7e/data/dropseq/bm12s3_dropseq.html)  \n",
    "  \n",
    "### _P. californicus_ testes\n",
    "[pc63s4](https://nbviewer.org/github/bulahwoo/scrna/blob/1c13ba680c7ebf9dfdbd29dc70c1d9572be6be7e/data/dropseq/pc63s4_dropseq.html)  \n",
    "[pc85s5](https://nbviewer.org/github/bulahwoo/scrna/blob/1c13ba680c7ebf9dfdbd29dc70c1d9572be6be7e/data/dropseq/pc85s5_dropseq.html)  "
   ]
  }
 ],
 "metadata": {
  "kernelspec": {
   "display_name": "Python 3 (ipykernel)",
   "language": "python",
   "name": "python3"
  },
  "language_info": {
   "codemirror_mode": {
    "name": "ipython",
    "version": 3
   },
   "file_extension": ".py",
   "mimetype": "text/x-python",
   "name": "python",
   "nbconvert_exporter": "python",
   "pygments_lexer": "ipython3",
   "version": "3.11.12"
  }
 },
 "nbformat": 4,
 "nbformat_minor": 5
}
