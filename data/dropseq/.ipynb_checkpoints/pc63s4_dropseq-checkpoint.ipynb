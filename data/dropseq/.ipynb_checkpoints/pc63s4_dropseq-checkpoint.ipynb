{
 "cells": [
  {
   "cell_type": "markdown",
   "id": "74d91f7c-34ce-4b5e-aeff-10c5e7d1fbae",
   "metadata": {},
   "source": [
    "# _P. californicus_ testes (pc63s4) analysis using Drop-seq core computational protocol\n",
    "\n",
    "Monika Hrubá, Bulah Wu, Petr Nguyen\n",
    "\n",
    "May 19, 2025"
   ]
  },
  {
   "cell_type": "markdown",
   "id": "93a3706d-cc32-472c-829b-ee0392b790aa",
   "metadata": {
    "jp-MarkdownHeadingCollapsed": true
   },
   "source": [
    "## Quality control for raw sequencing reads\n",
    "FastQC is used for checking the quality of raw FASTQ files.  \n",
    "Output can be found [here (read 1)](../shared/fastqc/pc63s4_r1_fastqc.html) and [here (read 2)](../shared/fastqc/pc63s4_r2_fastqc.html)."
   ]
  },
  {
   "cell_type": "markdown",
   "id": "785ed65e-8471-4738-bd68-4b6b052a95ca",
   "metadata": {},
   "source": [
    "## Generating digital expression matrix\n",
    "The raw reads are processed according to the [Drop-seq core computational protocol](https://github.com/broadinstitute/Drop-seq/blob/master/doc/Drop-seq_Alignment_Cookbook.pdf).  \n",
    "The digital expression matrix is extracted by selecting cells with ≥ 20 UMI, as suggested by [James Nemesh](https://brain.broadinstitute.org/team/james_nemesh/))."
   ]
  },
  {
   "cell_type": "markdown",
   "id": "cea41d8b-a6c1-447c-b8bd-3b7de6651c2a",
   "metadata": {},
   "source": [
    "## Barcode rank plot\n",
    "The barcode rank plot is used to assess the droplet data, with the knee and inflection points on the curve marking the transition between high RNA cells and empty droplets containing minimal RNA.  \n",
    "These points are identified using the barcoderanks function from the DropletUtils R package.  \n",
    "  \n",
    "<img src=\"./files/pc63s4_barcoderanks.png\" width=\"600\">"
   ]
  },
  {
   "cell_type": "markdown",
   "id": "867f3cc6-c3d2-44e8-a4fb-22453d28c2e0",
   "metadata": {},
   "source": [
    "## Empty droplet detection and filtering\n",
    "The emptyDrops function from the DropletUtils R package is used to detect and remove empty droplets.  \n",
    "The statistical test is executed with 10,000 iterations, and a False Discovery Rate (FDR) threshold of 0.001 is applied."
   ]
  },
  {
   "cell_type": "code",
   "execution_count": 1,
   "id": "524e9d14-ec8e-4d9f-a789-a17272b61c71",
   "metadata": {
    "editable": true,
    "slideshow": {
     "slide_type": ""
    },
    "tags": []
   },
   "outputs": [
    {
     "data": {
      "text/html": [
       "<div>\n",
       "<style scoped>\n",
       "    .dataframe tbody tr th:only-of-type {\n",
       "        vertical-align: middle;\n",
       "    }\n",
       "\n",
       "    .dataframe tbody tr th {\n",
       "        vertical-align: top;\n",
       "    }\n",
       "\n",
       "    .dataframe thead th {\n",
       "        text-align: right;\n",
       "    }\n",
       "</style>\n",
       "<table border=\"1\" class=\"dataframe\">\n",
       "  <thead>\n",
       "    <tr style=\"text-align: right;\">\n",
       "      <th></th>\n",
       "      <th>FALSE</th>\n",
       "      <th>TRUE</th>\n",
       "    </tr>\n",
       "  </thead>\n",
       "  <tbody>\n",
       "    <tr>\n",
       "      <th>False</th>\n",
       "      <td>15201</td>\n",
       "      <td>14</td>\n",
       "    </tr>\n",
       "    <tr>\n",
       "      <th>True</th>\n",
       "      <td>291</td>\n",
       "      <td>55</td>\n",
       "    </tr>\n",
       "  </tbody>\n",
       "</table>\n",
       "</div>"
      ],
      "text/plain": [
       "       FALSE  TRUE\n",
       "False  15201    14\n",
       "True     291    55"
      ]
     },
     "execution_count": 1,
     "metadata": {},
     "output_type": "execute_result"
    }
   ],
   "source": [
    "import pandas as pd\n",
    "tbl_emptydrops = pd.read_csv(\"./files/pc63s4_tbl_emptydrops.tsv\", sep=\"\\t\", header=0, index_col=0)\n",
    "tbl_emptydrops"
   ]
  },
  {
   "cell_type": "code",
   "execution_count": 2,
   "id": "4b5a92f5-429b-4908-a5f4-fec04784c90a",
   "metadata": {
    "editable": true,
    "scrolled": true,
    "slideshow": {
     "slide_type": ""
    },
    "tags": []
   },
   "outputs": [
    {
     "name": "stdout",
     "output_type": "stream",
     "text": [
      "Number of cells identified: 69\n"
     ]
    }
   ],
   "source": [
    "true_cell = tbl_emptydrops.iloc[:, 1].sum()\n",
    "print(\"Number of cells identified:\", true_cell)"
   ]
  },
  {
   "cell_type": "markdown",
   "id": "b095f521-b8d2-4c3b-8191-a2d2bba65895",
   "metadata": {},
   "source": [
    "## Quality assessment of scRNA-seq cells\n",
    "- nFeature_RNA: number of genes detected in each cell\n",
    "    - Cells with very few genes detected might be empty droplets, dead cells, or cells with low RNA content.\n",
    "    - Cells with an unexpectedly high number of detected genes might indicate multiplets or doublets.\n",
    "- nCount_RNA: number of molecules (UMIs) captured per cell\n",
    "    - Cells with very low nCount_RNA might be empty droplets or low-quality cells with minimal RNA capture.\n",
    "    - Very high nCount_RNA might suggest multiplets or doublets.\n",
    "- percent.mt: percentage of reads mapping to mitochondrial genes\n",
    "    - A high percent.mt (often greater than 5-10%) could suggest low-quality cells that are dying or experiencing stress. This is because stressed or dying cells may express higher levels of mitochondrial genes due to cellular damage.\n",
    "    - Cells with low percent.mt are generally of better quality.\n",
    "  \n",
    "We use violin plots with jittered data points to display nFeature_RNA, nCount_RNA, and percent.mt."
   ]
  },
  {
   "cell_type": "markdown",
   "id": "5aea7e1a-2071-4d91-be3c-6962b5bd369f",
   "metadata": {},
   "source": [
    "## Stepwise filtering of cells and genes\n",
    "### Step 1: load the unfiltered digital expression matrix\n",
    "<img src=\"./files/pc63s4_vln_s1.png\" width=\"600\">"
   ]
  },
  {
   "cell_type": "markdown",
   "id": "db67a4b0-e9ea-40de-bb0c-3044049aec1e",
   "metadata": {},
   "source": [
    "### Step 2: apply emptyDrops to identify and select true cells\n",
    "<img src=\"./files/pc63s4_vln_s2.png\" width=\"600\">"
   ]
  },
  {
   "cell_type": "markdown",
   "id": "2fee68cd-51b9-40af-9dc2-35644e995458",
   "metadata": {
    "jp-MarkdownHeadingCollapsed": true
   },
   "source": [
    "### Step 3: keep genes detected in a minimum of 3 cells\n",
    "<img src=\"./files/pc63s4_vln_s3.png\" width=\"600\">"
   ]
  },
  {
   "cell_type": "markdown",
   "id": "ce59b43e-4494-471d-9c60-e57b6b21b8c6",
   "metadata": {},
   "source": [
    "### Step 4: keep cells with more than 200 and less than 2500 detected genes\n",
    "<img src=\"./files/pc63s4_vln_s4.png\" width=\"600\">"
   ]
  },
  {
   "cell_type": "markdown",
   "id": "090b5986-9fa0-443e-98c9-b49f68e85efd",
   "metadata": {},
   "source": [
    "### Step 5: keep cells with mitochondrial percentages under 5%\n",
    "<img src=\"./files/pc63s4_vln_s5.png\" width=\"600\">"
   ]
  },
  {
   "cell_type": "markdown",
   "id": "236455da-f017-4b2c-a2db-86380a37bfe9",
   "metadata": {},
   "source": [
    "### Summary\n",
    "This table outlines, for each filtering step, the detected cell and gene counts, along with the mean and median UMI and gene numbers per cell."
   ]
  },
  {
   "cell_type": "code",
   "execution_count": 3,
   "id": "5bfba803-1bdc-4552-a695-9622efa171aa",
   "metadata": {
    "editable": true,
    "slideshow": {
     "slide_type": ""
    },
    "tags": []
   },
   "outputs": [
    {
     "data": {
      "text/html": [
       "<div>\n",
       "<style scoped>\n",
       "    .dataframe tbody tr th:only-of-type {\n",
       "        vertical-align: middle;\n",
       "    }\n",
       "\n",
       "    .dataframe tbody tr th {\n",
       "        vertical-align: top;\n",
       "    }\n",
       "\n",
       "    .dataframe thead th {\n",
       "        text-align: right;\n",
       "    }\n",
       "</style>\n",
       "<table border=\"1\" class=\"dataframe\">\n",
       "  <thead>\n",
       "    <tr style=\"text-align: right;\">\n",
       "      <th></th>\n",
       "      <th>NumCells</th>\n",
       "      <th>NumGenes</th>\n",
       "      <th>Mean_nCount_RNA</th>\n",
       "      <th>Median_nCount_RNA</th>\n",
       "      <th>Mean_nFeature_RNA</th>\n",
       "      <th>Median_nFeature_RNA</th>\n",
       "    </tr>\n",
       "  </thead>\n",
       "  <tbody>\n",
       "    <tr>\n",
       "      <th>Step 1</th>\n",
       "      <td>9067</td>\n",
       "      <td>33909</td>\n",
       "      <td>183.046890</td>\n",
       "      <td>88</td>\n",
       "      <td>132.958153</td>\n",
       "      <td>77</td>\n",
       "    </tr>\n",
       "    <tr>\n",
       "      <th>Step 2</th>\n",
       "      <td>9067</td>\n",
       "      <td>69</td>\n",
       "      <td>3349.637681</td>\n",
       "      <td>2859</td>\n",
       "      <td>1378.768116</td>\n",
       "      <td>1257</td>\n",
       "    </tr>\n",
       "    <tr>\n",
       "      <th>Step 3</th>\n",
       "      <td>4679</td>\n",
       "      <td>69</td>\n",
       "      <td>3315.101449</td>\n",
       "      <td>2830</td>\n",
       "      <td>1345.724638</td>\n",
       "      <td>1229</td>\n",
       "    </tr>\n",
       "    <tr>\n",
       "      <th>Step 4</th>\n",
       "      <td>4679</td>\n",
       "      <td>69</td>\n",
       "      <td>3315.101449</td>\n",
       "      <td>2830</td>\n",
       "      <td>1345.724638</td>\n",
       "      <td>1229</td>\n",
       "    </tr>\n",
       "    <tr>\n",
       "      <th>Step 5</th>\n",
       "      <td>4679</td>\n",
       "      <td>57</td>\n",
       "      <td>3439.578947</td>\n",
       "      <td>2928</td>\n",
       "      <td>1390.649123</td>\n",
       "      <td>1278</td>\n",
       "    </tr>\n",
       "  </tbody>\n",
       "</table>\n",
       "</div>"
      ],
      "text/plain": [
       "        NumCells  NumGenes  Mean_nCount_RNA  Median_nCount_RNA  \\\n",
       "Step 1      9067     33909       183.046890                 88   \n",
       "Step 2      9067        69      3349.637681               2859   \n",
       "Step 3      4679        69      3315.101449               2830   \n",
       "Step 4      4679        69      3315.101449               2830   \n",
       "Step 5      4679        57      3439.578947               2928   \n",
       "\n",
       "        Mean_nFeature_RNA  Median_nFeature_RNA  \n",
       "Step 1         132.958153                   77  \n",
       "Step 2        1378.768116                 1257  \n",
       "Step 3        1345.724638                 1229  \n",
       "Step 4        1345.724638                 1229  \n",
       "Step 5        1390.649123                 1278  "
      ]
     },
     "execution_count": 3,
     "metadata": {},
     "output_type": "execute_result"
    }
   ],
   "source": [
    "summary_stat = pd.read_csv(\"./files/pc63s4_summary_stat.tsv\", sep=\"\\t\", header=0)\n",
    "summary_stat.index = [\"Step 1\", \"Step 2\", \"Step 3\", \"Step 4\", \"Step 5\"]\n",
    "summary_stat"
   ]
  },
  {
   "cell_type": "markdown",
   "id": "6ebfc980-0e3b-485b-ae42-f2fce939daba",
   "metadata": {},
   "source": [
    "## Performing data analysis with Seurat in R\n",
    "The filtered matrix is loaded into Seurat, and the data is normalized, with mitochondrial percentage regressed out to avoid potential biases. Principal Component Analysis (PCA) is performed, followed by the identification of cell neighbors using the first 30 principal components. UMAP is applied to visualize the high-dimensional data in 2D, and cells are clustered using graph-based clustering."
   ]
  },
  {
   "cell_type": "markdown",
   "id": "eef9b86f-e7db-4fe3-8ca7-37aaa5893073",
   "metadata": {
    "editable": true,
    "slideshow": {
     "slide_type": ""
    },
    "tags": []
   },
   "source": [
    "### UMAP\n",
    "<img src=\"./files/pc63s4_umap.png\" width=\"600\">"
   ]
  }
 ],
 "metadata": {
  "kernelspec": {
   "display_name": "Python 3 (ipykernel)",
   "language": "python",
   "name": "python3"
  },
  "language_info": {
   "codemirror_mode": {
    "name": "ipython",
    "version": 3
   },
   "file_extension": ".py",
   "mimetype": "text/x-python",
   "name": "python",
   "nbconvert_exporter": "python",
   "pygments_lexer": "ipython3",
   "version": "3.11.12"
  }
 },
 "nbformat": 4,
 "nbformat_minor": 5
}
