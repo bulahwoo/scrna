{
 "cells": [
  {
   "cell_type": "markdown",
   "id": "74d91f7c-34ce-4b5e-aeff-10c5e7d1fbae",
   "metadata": {},
   "source": [
    "# _B. mori_ testes (bm12s3) analysis using Drop-seq core computational protocol\n",
    "\n",
    "Monika Hrubá, Bulah Wu, Petr Nguyen\n",
    "\n",
    "May 19, 2025"
   ]
  },
  {
   "cell_type": "markdown",
   "id": "93a3706d-cc32-472c-829b-ee0392b790aa",
   "metadata": {
    "jp-MarkdownHeadingCollapsed": true
   },
   "source": [
    "## Quality control for raw sequencing reads\n",
    "FastQC is used for checking the quality of raw FASTQ files.  \n",
    "Output can be found [here (read 1)](../shared/fastqc/bm12s3_r1_fastqc.html) and [here (read 2)](../shared/fastqc/bm12s3_r2_fastqc.html)."
   ]
  },
  {
   "cell_type": "markdown",
   "id": "785ed65e-8471-4738-bd68-4b6b052a95ca",
   "metadata": {},
   "source": [
    "## Generating digital expression matrix\n",
    "The raw reads are processed according to the [Drop-seq core computational protocol](https://github.com/broadinstitute/Drop-seq/blob/master/doc/Drop-seq_Alignment_Cookbook.pdf).  \n",
    "The digital expression matrix is extracted by selecting cells with ≥ 20 UMI, as suggested by [James Nemesh](https://brain.broadinstitute.org/team/james_nemesh/))."
   ]
  },
  {
   "cell_type": "markdown",
   "id": "cea41d8b-a6c1-447c-b8bd-3b7de6651c2a",
   "metadata": {},
   "source": [
    "## Barcode rank plot\n",
    "The barcode rank plot is used to assess the droplet data, with the knee and inflection points on the curve marking the transition between high RNA cells and empty droplets containing minimal RNA.  \n",
    "These points are identified using the barcoderanks function from the DropletUtils R package.  \n",
    "  \n",
    "<img src=\"./files/bm12s3_barcoderanks.png\" width=\"600\">"
   ]
  },
  {
   "cell_type": "markdown",
   "id": "867f3cc6-c3d2-44e8-a4fb-22453d28c2e0",
   "metadata": {},
   "source": [
    "## Empty droplet detection and filtering\n",
    "The emptyDrops function from the DropletUtils R package is used to detect and remove empty droplets.  \n",
    "The statistical test is executed with 10,000 iterations, and a False Discovery Rate (FDR) threshold of 0.001 is applied."
   ]
  },
  {
   "cell_type": "code",
   "execution_count": 1,
   "id": "524e9d14-ec8e-4d9f-a789-a17272b61c71",
   "metadata": {
    "editable": true,
    "execution": {
     "iopub.execute_input": "2025-05-20T14:45:10.719337Z",
     "iopub.status.busy": "2025-05-20T14:45:10.719258Z",
     "iopub.status.idle": "2025-05-20T14:45:10.848768Z",
     "shell.execute_reply": "2025-05-20T14:45:10.848517Z"
    },
    "slideshow": {
     "slide_type": ""
    },
    "tags": []
   },
   "outputs": [
    {
     "data": {
      "text/html": [
       "<div>\n",
       "<style scoped>\n",
       "    .dataframe tbody tr th:only-of-type {\n",
       "        vertical-align: middle;\n",
       "    }\n",
       "\n",
       "    .dataframe tbody tr th {\n",
       "        vertical-align: top;\n",
       "    }\n",
       "\n",
       "    .dataframe thead th {\n",
       "        text-align: right;\n",
       "    }\n",
       "</style>\n",
       "<table border=\"1\" class=\"dataframe\">\n",
       "  <thead>\n",
       "    <tr style=\"text-align: right;\">\n",
       "      <th></th>\n",
       "      <th>FALSE</th>\n",
       "      <th>TRUE</th>\n",
       "    </tr>\n",
       "  </thead>\n",
       "  <tbody>\n",
       "    <tr>\n",
       "      <th>False</th>\n",
       "      <td>32885</td>\n",
       "      <td>44481</td>\n",
       "    </tr>\n",
       "    <tr>\n",
       "      <th>True</th>\n",
       "      <td>0</td>\n",
       "      <td>2007</td>\n",
       "    </tr>\n",
       "  </tbody>\n",
       "</table>\n",
       "</div>"
      ],
      "text/plain": [
       "       FALSE   TRUE\n",
       "False  32885  44481\n",
       "True       0   2007"
      ]
     },
     "execution_count": 1,
     "metadata": {},
     "output_type": "execute_result"
    }
   ],
   "source": [
    "import pandas as pd\n",
    "tbl_emptydrops = pd.read_csv(\"./files/bm12s3_tbl_emptydrops.tsv\", sep=\"\\t\", header=0, index_col=0)\n",
    "tbl_emptydrops"
   ]
  },
  {
   "cell_type": "code",
   "execution_count": 2,
   "id": "4b5a92f5-429b-4908-a5f4-fec04784c90a",
   "metadata": {
    "editable": true,
    "execution": {
     "iopub.execute_input": "2025-05-20T14:45:10.849842Z",
     "iopub.status.busy": "2025-05-20T14:45:10.849759Z",
     "iopub.status.idle": "2025-05-20T14:45:10.851531Z",
     "shell.execute_reply": "2025-05-20T14:45:10.851363Z"
    },
    "scrolled": true,
    "slideshow": {
     "slide_type": ""
    },
    "tags": []
   },
   "outputs": [
    {
     "name": "stdout",
     "output_type": "stream",
     "text": [
      "Number of cells identified: 46488\n"
     ]
    }
   ],
   "source": [
    "true_cell = tbl_emptydrops.iloc[:, 1].sum()\n",
    "print(\"Number of cells identified:\", true_cell)"
   ]
  },
  {
   "cell_type": "markdown",
   "id": "b095f521-b8d2-4c3b-8191-a2d2bba65895",
   "metadata": {},
   "source": [
    "## Quality assessment of scRNA-seq cells\n",
    "- nFeature_RNA: number of genes detected in each cell\n",
    "    - Cells with very few genes detected might be empty droplets, dead cells, or cells with low RNA content.\n",
    "    - Cells with an unexpectedly high number of detected genes might indicate multiplets or doublets.\n",
    "- nCount_RNA: number of molecules (UMIs) captured per cell\n",
    "    - Cells with very low nCount_RNA might be empty droplets or low-quality cells with minimal RNA capture.\n",
    "    - Very high nCount_RNA might suggest multiplets or doublets.\n",
    "- percent.mt: percentage of reads mapping to mitochondrial genes\n",
    "    - A high percent.mt (often greater than 5-10%) could suggest low-quality cells that are dying or experiencing stress. This is because stressed or dying cells may express higher levels of mitochondrial genes due to cellular damage.\n",
    "    - Cells with low percent.mt are generally of better quality.\n",
    "  \n",
    "We use violin plots with jittered data points to display nFeature_RNA, nCount_RNA, and percent.mt."
   ]
  },
  {
   "cell_type": "markdown",
   "id": "5aea7e1a-2071-4d91-be3c-6962b5bd369f",
   "metadata": {},
   "source": [
    "## Stepwise filtering of cells and genes\n",
    "### Step 1: load the unfiltered digital expression matrix\n",
    "<img src=\"./files/bm12s3_vln_s1.png\" width=\"600\">"
   ]
  },
  {
   "cell_type": "markdown",
   "id": "db67a4b0-e9ea-40de-bb0c-3044049aec1e",
   "metadata": {},
   "source": [
    "### Step 2: apply emptyDrops to identify and select true cells\n",
    "<img src=\"./files/bm12s3_vln_s2.png\" width=\"600\">"
   ]
  },
  {
   "cell_type": "markdown",
   "id": "2fee68cd-51b9-40af-9dc2-35644e995458",
   "metadata": {
    "jp-MarkdownHeadingCollapsed": true
   },
   "source": [
    "### Step 3: keep genes detected in a minimum of 3 cells\n",
    "<img src=\"./files/bm12s3_vln_s3.png\" width=\"600\">"
   ]
  },
  {
   "cell_type": "markdown",
   "id": "ce59b43e-4494-471d-9c60-e57b6b21b8c6",
   "metadata": {},
   "source": [
    "### Step 4: keep cells with more than 200 and less than 2500 detected genes\n",
    "<img src=\"./files/bm12s3_vln_s4.png\" width=\"600\">"
   ]
  },
  {
   "cell_type": "markdown",
   "id": "090b5986-9fa0-443e-98c9-b49f68e85efd",
   "metadata": {},
   "source": [
    "### Step 5: keep cells with mitochondrial percentages under 5%\n",
    "<img src=\"./files/bm12s3_vln_s5.png\" width=\"600\">"
   ]
  },
  {
   "cell_type": "markdown",
   "id": "236455da-f017-4b2c-a2db-86380a37bfe9",
   "metadata": {},
   "source": [
    "### Summary\n",
    "This table outlines, for each filtering step, the detected cell and gene counts, along with the mean and median UMI and gene numbers per cell."
   ]
  },
  {
   "cell_type": "code",
   "execution_count": 3,
   "id": "5bfba803-1bdc-4552-a695-9622efa171aa",
   "metadata": {
    "editable": true,
    "execution": {
     "iopub.execute_input": "2025-05-20T14:45:10.852395Z",
     "iopub.status.busy": "2025-05-20T14:45:10.852322Z",
     "iopub.status.idle": "2025-05-20T14:45:10.856325Z",
     "shell.execute_reply": "2025-05-20T14:45:10.856164Z"
    },
    "slideshow": {
     "slide_type": ""
    },
    "tags": []
   },
   "outputs": [
    {
     "data": {
      "text/html": [
       "<div>\n",
       "<style scoped>\n",
       "    .dataframe tbody tr th:only-of-type {\n",
       "        vertical-align: middle;\n",
       "    }\n",
       "\n",
       "    .dataframe tbody tr th {\n",
       "        vertical-align: top;\n",
       "    }\n",
       "\n",
       "    .dataframe thead th {\n",
       "        text-align: right;\n",
       "    }\n",
       "</style>\n",
       "<table border=\"1\" class=\"dataframe\">\n",
       "  <thead>\n",
       "    <tr style=\"text-align: right;\">\n",
       "      <th></th>\n",
       "      <th>NumGenes</th>\n",
       "      <th>NumCells</th>\n",
       "      <th>Mean_nCount_RNA</th>\n",
       "      <th>Median_nCount_RNA</th>\n",
       "      <th>Mean_nFeature_RNA</th>\n",
       "      <th>Median_nFeature_RNA</th>\n",
       "    </tr>\n",
       "  </thead>\n",
       "  <tbody>\n",
       "    <tr>\n",
       "      <th>Step 1</th>\n",
       "      <td>14564</td>\n",
       "      <td>98506</td>\n",
       "      <td>417.686638</td>\n",
       "      <td>275</td>\n",
       "      <td>270.881368</td>\n",
       "      <td>206</td>\n",
       "    </tr>\n",
       "    <tr>\n",
       "      <th>Step 2</th>\n",
       "      <td>14564</td>\n",
       "      <td>46488</td>\n",
       "      <td>726.233759</td>\n",
       "      <td>567</td>\n",
       "      <td>448.229995</td>\n",
       "      <td>381</td>\n",
       "    </tr>\n",
       "    <tr>\n",
       "      <th>Step 3</th>\n",
       "      <td>13107</td>\n",
       "      <td>46488</td>\n",
       "      <td>726.196373</td>\n",
       "      <td>567</td>\n",
       "      <td>448.192695</td>\n",
       "      <td>381</td>\n",
       "    </tr>\n",
       "    <tr>\n",
       "      <th>Step 4</th>\n",
       "      <td>13107</td>\n",
       "      <td>46203</td>\n",
       "      <td>728.636431</td>\n",
       "      <td>570</td>\n",
       "      <td>449.715581</td>\n",
       "      <td>382</td>\n",
       "    </tr>\n",
       "    <tr>\n",
       "      <th>Step 5</th>\n",
       "      <td>13107</td>\n",
       "      <td>43620</td>\n",
       "      <td>725.034480</td>\n",
       "      <td>567</td>\n",
       "      <td>449.768890</td>\n",
       "      <td>382</td>\n",
       "    </tr>\n",
       "  </tbody>\n",
       "</table>\n",
       "</div>"
      ],
      "text/plain": [
       "        NumGenes  NumCells  Mean_nCount_RNA  Median_nCount_RNA  \\\n",
       "Step 1     14564     98506       417.686638                275   \n",
       "Step 2     14564     46488       726.233759                567   \n",
       "Step 3     13107     46488       726.196373                567   \n",
       "Step 4     13107     46203       728.636431                570   \n",
       "Step 5     13107     43620       725.034480                567   \n",
       "\n",
       "        Mean_nFeature_RNA  Median_nFeature_RNA  \n",
       "Step 1         270.881368                  206  \n",
       "Step 2         448.229995                  381  \n",
       "Step 3         448.192695                  381  \n",
       "Step 4         449.715581                  382  \n",
       "Step 5         449.768890                  382  "
      ]
     },
     "execution_count": 3,
     "metadata": {},
     "output_type": "execute_result"
    }
   ],
   "source": [
    "summary_stat = pd.read_csv(\"./files/bm12s3_summary_stat.tsv\", sep=\"\\t\", header=0)\n",
    "summary_stat.index = [\"Step 1\", \"Step 2\", \"Step 3\", \"Step 4\", \"Step 5\"]\n",
    "summary_stat"
   ]
  },
  {
   "cell_type": "markdown",
   "id": "6ebfc980-0e3b-485b-ae42-f2fce939daba",
   "metadata": {},
   "source": [
    "## Performing data analysis with Seurat in R\n",
    "The filtered matrix is loaded into Seurat, and the data is normalized, with mitochondrial percentage regressed out to avoid potential biases. Principal Component Analysis (PCA) is performed, followed by the identification of cell neighbors using the first 30 principal components. UMAP is applied to visualize the high-dimensional data in 2D, and cells are clustered using graph-based clustering."
   ]
  },
  {
   "cell_type": "markdown",
   "id": "eef9b86f-e7db-4fe3-8ca7-37aaa5893073",
   "metadata": {
    "editable": true,
    "slideshow": {
     "slide_type": ""
    },
    "tags": []
   },
   "source": [
    "### UMAP\n",
    "<img src=\"./files/bm12s3_umap.png\" width=\"600\">"
   ]
  }
 ],
 "metadata": {
  "kernelspec": {
   "display_name": "Python 3 (ipykernel)",
   "language": "python",
   "name": "python3"
  },
  "language_info": {
   "codemirror_mode": {
    "name": "ipython",
    "version": 3
   },
   "file_extension": ".py",
   "mimetype": "text/x-python",
   "name": "python",
   "nbconvert_exporter": "python",
   "pygments_lexer": "ipython3",
   "version": "3.11.12"
  }
 },
 "nbformat": 4,
 "nbformat_minor": 5
}
